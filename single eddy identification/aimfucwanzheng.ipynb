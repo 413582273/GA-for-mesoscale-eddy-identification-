{
 "cells": [
  {
   "cell_type": "code",
   "execution_count": null,
   "metadata": {},
   "outputs": [],
   "source": [
    "\"\"\"\n",
    "本程序利用数据库的数据对动力系统进行拟合\n",
    "利用get_v_field文件进行数据获取\n",
    "利用geatpy库进行遗传算法拟合参数\n",
    "\n",
    "需要拟合的模型参见中尺度涡动力系统模型一文\n",
    "\n",
    "算法教程见https://github.com/geatpy-dev/geatpy/blob/master/geatpy/doc/Geatpy-tutorials/2.quickstart.pdf\n",
    "\n",
    "\"\"\""
   ]
  },
  {
   "cell_type": "code",
   "execution_count": null,
   "metadata": {},
   "outputs": [],
   "source": [
    "import numpy as np\n",
    "import geatpy as ga # 导入geatpy库\n",
    "import matplotlib.pyplot as plt\n",
    "import time\n",
    "import get_v_field_function as gvf #自己的函数库\n",
    "\n",
    "import glovar as glo"
   ]
  },
  {
   "cell_type": "code",
   "execution_count": null,
   "metadata": {},
   "outputs": [],
   "source": [
    "data1=glo.Data(glo.track_n)\n",
    "U=data1.u\n",
    "V=data1.v\n",
    "X=data1.X\n",
    "Y=data1.Y\n",
    "cyc=data1.cyc"
   ]
  },
  {
   "cell_type": "code",
   "execution_count": null,
   "metadata": {},
   "outputs": [],
   "source": [
    "#完整模型\n",
    "def aimfuc(Phen,LegV):\n",
    "    ox=Phen[:,0]\n",
    "    oy=Phen[:,1]\n",
    "    R=Phen[:,2]\n",
    "    lamda=Phen[:,3]\n",
    "    mu=Phen[:,4]\n",
    "    alfa=Phen[:,5]\n",
    "    beta=Phen[:,6]\n",
    "    a=Phen[:,7]\n",
    "    b=Phen[:,8]\n",
    "    fucx=0\n",
    "    fucy=0\n",
    "    for i in range(X.shape[0]):\n",
    "        for j in range(Y.shape[0]):\n",
    "            fx=U[j][i]-(lamda*(Y[j]-oy)+alfa*(X[i]-ox)*(a*(X[i]-ox)**2+b*(Y[j]-oy)**2-R)**2)#\n",
    "            fy=V[j][i]-(-mu*(X[i]-ox)+beta*(Y[j]-oy)*(a*(X[i]-ox)**2+b*(Y[j]-oy)**2-R)**2)#\n",
    "            fucx=fx**2+fucx\n",
    "            fucy=fy**2+fucy\n",
    "    return[np.vstack([fucx, fucy]).T,LegV]"
   ]
  }
 ],
 "metadata": {
  "kernelspec": {
   "display_name": "Python 3",
   "language": "python",
   "name": "python3"
  },
  "language_info": {
   "codemirror_mode": {
    "name": "ipython",
    "version": 3
   },
   "file_extension": ".py",
   "mimetype": "text/x-python",
   "name": "python",
   "nbconvert_exporter": "python",
   "pygments_lexer": "ipython3",
   "version": "3.6.4"
  }
 },
 "nbformat": 4,
 "nbformat_minor": 2
}
