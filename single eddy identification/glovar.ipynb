{
 "cells": [
  {
   "cell_type": "code",
   "execution_count": null,
   "metadata": {},
   "outputs": [],
   "source": [
    "\"\"\"\n",
    "This module is designed for global variables, therefore every \n",
    "other .py files can get the basic configuration data such as \n",
    "search range, search accuracy, etc.\n",
    "\"\"\"\n",
    "import numpy\n",
    "import get_v_field_function as gvf"
   ]
  },
  {
   "cell_type": "code",
   "execution_count": null,
   "metadata": {},
   "outputs": [],
   "source": [
    "\"\"\"Global Constants\"\"\""
   ]
  },
  {
   "cell_type": "code",
   "execution_count": null,
   "metadata": {},
   "outputs": [],
   "source": [
    "#set search range, the unit is degree\n",
    "time=\"time\"\n",
    "lon_start=\"lon_start\"\n",
    "lon_end=\"lon_end\"\n",
    "lat_start=\"lat_start\"\n",
    "lat_end=\"lat_end\"\n",
    "#set search accuracy, the unit is degree\n",
    "acc=\"acc\"\n",
    "#identification tolerance\n",
    "iden_tol=\"inden_tol\"\n",
    "#clockwise=1 anti clockwise=-1\n",
    "clockwise=\"clockwise\"\n",
    "#tolerance level of the island\n",
    "island_tol=\"island_tol\"\n",
    "C_tol=\"C_tol\"\n",
    "\n",
    "#GA\n",
    "nind=\"nind\"\n",
    "maxgen=\"maxgen\"\n",
    "\n",
    "track_n=\"track_n\""
   ]
  },
  {
   "cell_type": "code",
   "execution_count": null,
   "metadata": {},
   "outputs": [],
   "source": [
    "\"\"\"Global Variables\"\"\""
   ]
  },
  {
   "cell_type": "code",
   "execution_count": null,
   "metadata": {},
   "outputs": [],
   "source": [
    "#set local&global velocity variables\n",
    "#for convenience，u v should depend only on lon&lat，without time\n",
    "local_u=\"local_u\"\n",
    "local_v=\"local_v\"\n",
    "local_lon=\"local_lon\"\n",
    "local_lat=\"local_lat\"\n",
    "global_u=\"global_u\"\n",
    "global_v=\"global_v\"\n",
    "global_lon=\"global_lon\"\n",
    "global_lat=\"global_lat\"\n",
    "search_lon=\"search_lon\"\n",
    "search_lat=\"search_lat\""
   ]
  },
  {
   "cell_type": "code",
   "execution_count": null,
   "metadata": {},
   "outputs": [],
   "source": [
    "class Data:\n",
    "    '海洋数据的基类'\n",
    "    track=0\n",
    "    def __init__(self,track):\n",
    "        #涡的标号\n",
    "        self.track_num=track\n",
    "        #速度场属性\n",
    "        self.u=gvf.get_vel_field(track,1)\n",
    "        self.v=gvf.get_vel_field(track,0)\n",
    "        #区域大小\n",
    "        self.Xdata_size=self.u.shape[1]\n",
    "        self.Ydata_size=self.u.shape[0]\n",
    "        #区域网格\n",
    "        #self.X=self.u\n",
    "        #self.Y=self.u\n",
    "        self.X=gvf.lon_f[gvf.L_to_location(track)[0]:gvf.L_to_location(track)[1]]\n",
    "                                   #参见函数L_to_location\n",
    "        self.Y=gvf.lat_f[gvf.L_to_location(track)[2]:gvf.L_to_location(track)[3]]\n",
    "        self.lat=gvf.eddyinfo(track)[0]\n",
    "        self.lon=gvf.eddyinfo(track)[1]\n",
    "        self.j1=gvf.eddyinfo(track)[2]\n",
    "        self.L=gvf.eddyinfo(track)[3]\n",
    "        self.U=gvf.eddyinfo(track)[4]\n",
    "        self.A=gvf.eddyinfo(track)[5]\n",
    "        self.cyc=gvf.eddyinfo(track)[6]\n",
    "        self.track=gvf.eddyinfo(track)[7]\n",
    "        self.n=gvf.eddyinfo(track)[8]\n",
    "        print('数据对象创建成功')"
   ]
  }
 ],
 "metadata": {
  "kernelspec": {
   "display_name": "Python 3",
   "language": "python",
   "name": "python3"
  },
  "language_info": {
   "codemirror_mode": {
    "name": "ipython",
    "version": 3
   },
   "file_extension": ".py",
   "mimetype": "text/x-python",
   "name": "python",
   "nbconvert_exporter": "python",
   "pygments_lexer": "ipython3",
   "version": "3.6.4"
  }
 },
 "nbformat": 4,
 "nbformat_minor": 2
}
