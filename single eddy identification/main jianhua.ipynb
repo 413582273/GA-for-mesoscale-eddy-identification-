{
 "cells": [
  {
   "cell_type": "code",
   "execution_count": 1,
   "metadata": {
    "scrolled": true
   },
   "outputs": [],
   "source": [
    "import geatpy as ga\n",
    "import numpy as np\n",
    "import glovar as glo\n",
    "import get_v_field_function as gvf\n",
    "import cartopy.crs as ccrs\n",
    "import cartopy.feature as cfeature\n",
    "import csv\n",
    "from datetime import datetime\n",
    "import matplotlib.pyplot as plt\n",
    "import matplotlib.gridspec as gridspec\n",
    "from mpl_toolkits.axes_grid1 import make_axes_locatable\n",
    "import math\n",
    "import matplotlib.pyplot as plt\n",
    "import numpy as np\n",
    "from netCDF4 import Dataset, date2index\n",
    "from netCDF4 import num2date\n",
    "from netCDF4 import date2num\n",
    "import os\n",
    "from pydap.client import open_url\n",
    "import pprint\n",
    "import seawater as sw\n",
    "import sys\n",
    "from scipy.integrate import odeint\n",
    "import time as tm\n",
    "from moea_nsga2_templet1 import moea_nsga2_templet1\n",
    "#读取流场数据库   \n",
    "dataset_uvel =Dataset('http://apdrc.soest.hawaii.edu:80/dods/public_data/ECCO/ECCO2/cube92/uvel')\n",
    "dataset_vvel =Dataset('http://apdrc.soest.hawaii.edu:80/dods/public_data/ECCO/ECCO2/cube92/vvel')    #打开数据文件\n",
    "u=dataset_uvel.variables['uvel']\n",
    "v=dataset_vvel.variables['vvel']\n",
    "time=dataset_uvel.variables['time']\n",
    "lat_f=np.array(dataset_uvel.variables['lat'])\n",
    "lon_f=np.array(dataset_uvel.variables['lon'])\n"
   ]
  },
  {
   "cell_type": "code",
   "execution_count": 34,
   "metadata": {},
   "outputs": [
    {
     "name": "stdout",
     "output_type": "stream",
     "text": [
      "————————————————获取速度场————————————————\n",
      "涡心坐标    lat： 32.52479934692383 lon： 285.1619873046875\n",
      "半径L= 101.5441864013672 转换为度数： 0.9066445214407786\n",
      "涡的坐标范围lat:  31.61815482548305 33.43144386836461  lon: 284.2553427832467 286.0686318261283\n",
      "对应坐标起止lat: 31.375 33.625  lon: 284.125 286.125\n",
      "对应数组起止lat:  485 494  lon: 1136 1144\n",
      "\n",
      "选择了中尺度涡数据库的Julian时间为 2448989.0 转换后为 727200.0 \n",
      "对应流场观测的时间点为 727200.0 数组索引为 0\n",
      "———————————————获取速度U完毕————————————————\n",
      "\n",
      "\n",
      "————————————————获取速度场————————————————\n",
      "涡心坐标    lat： 32.52479934692383 lon： 285.1619873046875\n",
      "半径L= 101.5441864013672 转换为度数： 0.9066445214407786\n",
      "涡的坐标范围lat:  31.61815482548305 33.43144386836461  lon: 284.2553427832467 286.0686318261283\n",
      "对应坐标起止lat: 31.375 33.625  lon: 284.125 286.125\n",
      "对应数组起止lat:  485 494  lon: 1136 1144\n",
      "\n",
      "选择了中尺度涡数据库的Julian时间为 2448989.0 转换后为 727200.0 \n",
      "对应流场观测的时间点为 727200.0 数组索引为 0\n",
      "———————————————获取速度V完毕————————————————\n",
      "\n",
      "\n",
      "涡心坐标    lat： 32.52479934692383 lon： 285.1619873046875\n",
      "半径L= 101.5441864013672 转换为度数： 0.9066445214407786\n",
      "涡的坐标范围lat:  31.61815482548305 33.43144386836461  lon: 284.2553427832467 286.0686318261283\n",
      "对应坐标起止lat: 31.375 33.625  lon: 284.125 286.125\n",
      "对应数组起止lat:  485 494  lon: 1136 1144\n"
     ]
    }
   ],
   "source": [
    "glo.track_n=4\n",
    "#------------画图用\n",
    "vx=gvf.get_vel_field(glo.track_n,1)\n",
    "vy=gvf.get_vel_field(glo.track_n,0)\n",
    "    #获取坐标的数组范围\n",
    "loc_range=gvf.L_to_location(glo.track_n)\n",
    "    #生成网格"
   ]
  },
  {
   "cell_type": "code",
   "execution_count": 35,
   "metadata": {},
   "outputs": [
    {
     "name": "stdout",
     "output_type": "stream",
     "text": [
      "涡心坐标    lat： 32.52479934692383 lon： 285.1619873046875\n",
      "半径L= 101.5441864013672 转换为度数： 0.9066445214407786\n",
      "涡的坐标范围lat:  31.61815482548305 33.43144386836461  lon: 284.2553427832467 286.0686318261283\n",
      "对应坐标起止lat: 31.375 33.625  lon: 284.125 286.125\n",
      "对应数组起止lat:  485 494  lon: 1136 1144\n",
      "涡心坐标    lat： 32.52479934692383 lon： 285.1619873046875\n",
      "半径L= 101.5441864013672 转换为度数： 0.9066445214407786\n",
      "涡的坐标范围lat:  31.61815482548305 33.43144386836461  lon: 284.2553427832467 286.0686318261283\n",
      "对应坐标起止lat: 31.375 33.625  lon: 284.125 286.125\n",
      "对应数组起止lat:  485 494  lon: 1136 1144\n",
      "涡心坐标    lat： 32.52479934692383 lon： 285.1619873046875\n",
      "半径L= 101.5441864013672 转换为度数： 0.9066445214407786\n",
      "涡的坐标范围lat:  31.61815482548305 33.43144386836461  lon: 284.2553427832467 286.0686318261283\n",
      "对应坐标起止lat: 31.375 33.625  lon: 284.125 286.125\n",
      "对应数组起止lat:  485 494  lon: 1136 1144\n",
      "涡心坐标    lat： 32.52479934692383 lon： 285.1619873046875\n",
      "半径L= 101.5441864013672 转换为度数： 0.9066445214407786\n",
      "涡的坐标范围lat:  31.61815482548305 33.43144386836461  lon: 284.2553427832467 286.0686318261283\n",
      "对应坐标起止lat: 31.375 33.625  lon: 284.125 286.125\n",
      "对应数组起止lat:  485 494  lon: 1136 1144\n"
     ]
    },
    {
     "name": "stderr",
     "output_type": "stream",
     "text": [
      "100%|██████████████████████████████████████████████████████████████████████████████| 2000/2000 [00:44<00:00, 44.66it/s]\n"
     ]
    },
    {
     "data": {
      "image/png": "[encoded data removed]",
      "text/plain": [
       "<matplotlib.figure.Figure at 0x25b05998e10>"
      ]
     },
     "metadata": {},
     "output_type": "display_data"
    }
   ],
   "source": [
    "\n",
    "# 获取函数接口地址\n",
    "AIM_M = __import__('aimfuc')\n",
    "PUN_M = __import__('punishing')\n",
    "\"\"\"============================变量设置============================\"\"\"\n",
    "ox = [gvf.L_to_location(glo.track_n)[4],gvf.L_to_location(glo.track_n)[5]]  # 自变量1的范围  lon的范围\n",
    "oy = [gvf.L_to_location(glo.track_n)[6],gvf.L_to_location(glo.track_n)[7]]  # 自变量2的范围    lat的范围\n",
    "\"\"\"#完整参数\n",
    "R = [0.1,4 ]  # 自变量3的范围\n",
    "alfa = [-3, 3]  # 自变量3的范围\n",
    "beta = [-3, 3]  # 自变量3的范围\n",
    "a = [1, 4]  # 自变量3的范围\n",
    "b = [1, 4]  # 自变量3的范围\n",
    "lamda = [0.1, 10]  # 自变量3的范围\n",
    "mu = [0.1, 10]  # 自变量3的范围\n",
    "b1 = [1, 1]  # 自变量1是否包含下界\n",
    "b2 = [1, 1]  # 自变量2是否包含上界\n",
    "b3 = [1, 1]  # 自变量3是否包含下界\n",
    "b4 = [1, 1]  # 自变量4是否包含上界\n",
    "b5 = [1, 1]  # 自变量4是否包含上界\n",
    "b6 = [1, 1]  # 自变量4是否包含上界\n",
    "b7 = [1, 1]  # 自变量4是否包含上界\n",
    "b8 = [1, 1]  # 自变量4是否包含上界\n",
    "b9 = [1, 1]  # 自变量4是否包含上界\n",
    "precisions = [1, 1]  # 在二进制/格雷码编码中代表自变量的编码精度，当控制变量是二进制/格雷编码时，该参数可控制编码的精度\n",
    "ranges = np.vstack([ox,oy,R,alfa,beta,a,b,lamda,mu]).T  # 生成自变量的范围矩阵\n",
    "borders = np.vstack([b1,b2,b3,b4,b5,b6,b7,b8,b9]).T  # 生成自变量的边界矩阵\"\"\"\n",
    "\n",
    "#简化参数\n",
    "C = [-10,-0.1]  # 自变量3的范围\n",
    "R = [0.1,4]  # 自变量3的范围\n",
    "b1 = [1, 1]  # 自变量1是否包含下界\n",
    "b2 = [1, 1]  # 自变量2是否包含上界\n",
    "b3 = [1, 1]  # 自变量3是否包含下界\n",
    "b4 = [1, 1]  # 自变量4是否包含上界\n",
    "precisions = [1, 1]  # 在二进制/格雷码编码中代表自变量的编码精度，当控制变量是二进制/格雷编码时，该参数可控制编码的精度\n",
    "ranges = np.vstack([ox,oy,C,R]).T  # 生成自变量的范围矩阵\n",
    "borders = np.vstack([b1,b2,b3,b4]).T  # 生成自变量的边界矩阵\n",
    "\n",
    "# 生成区域描述器\n",
    "FieldD = ga.crtfld(ranges, borders, precisions)\n",
    "\"\"\"========================遗传算法参数设置=========================\"\"\"\n",
    "NIND = 100  # 种群规模\n",
    "MAXGEN = 2000  # 最大遗传代数\n",
    "MAXSIZE = 200  # 最大帕累托前沿数\n",
    "GGAP = 0.8  # 代沟：子代与父代的重复率为(1-GGAP)\n",
    "selectStyle = 'rws'  # 遗传算法的选择方式设为\"rws\"——轮盘赌选择\n",
    "recombinStyle = 'xovdp'  # 遗传算法的重组方式，设为两点交叉\n",
    "recopt = 0.9  # 交叉概率\n",
    "pm = 0.1  # 变异概率\n",
    "SUBPOP = 1  # 设置种群数为1\n",
    "maxormin = 1  # 设置标记表明这是最小化目标\n",
    "\"\"\"=======================调用编程模板进行种群进化===================\"\"\"\n",
    "# 调用编程模板进行种群进化，得到种群进化和变量的追踪器以及运行时间\n",
    "[ObjV, NDSet, NDSetObjV, times] = moea_nsga2_templet1(AIM_M=AIM_M, AIM_F=\"aimfuc\", PUN_M=PUN_M, PUN_F=\"punishing\",\n",
    "                                                        FieldDR=FieldD, problem=\"R\", maxormin=1, MAXGEN=MAXGEN,\n",
    "                                                        MAXSIZE=MAXSIZE, NIND=NIND, SUBPOP=SUBPOP, GGAP=GGAP,\n",
    "                                                        selectStyle=selectStyle, recombinStyle=recombinStyle,\n",
    "                                                        recopt=recopt, pm=pm, distribute=True, drawing=1)\n"
   ]
  },
  {
   "cell_type": "code",
   "execution_count": 36,
   "metadata": {},
   "outputs": [
    {
     "name": "stdout",
     "output_type": "stream",
     "text": [
      "涡心为：   lon: 284.0 lat: 31.0 \n",
      "C: -10.0 \n",
      "R: 4.0\n"
     ]
    },
    {
     "name": "stderr",
     "output_type": "stream",
     "text": [
      "C:\\ProgramData\\Anaconda3\\lib\\site-packages\\numpy\\core\\fromnumeric.py:2957: RuntimeWarning: Mean of empty slice.\n",
      "  out=out, **kwargs)\n",
      "C:\\ProgramData\\Anaconda3\\lib\\site-packages\\numpy\\core\\_methods.py:80: RuntimeWarning: invalid value encountered in double_scalars\n",
      "  ret = ret.dtype.type(ret / rcount)\n"
     ]
    },
    {
     "name": "stdout",
     "output_type": "stream",
     "text": [
      "涡心为：   lon: nan lat: nan \n",
      "C: nan \n",
      "R: nan\n"
     ]
    }
   ],
   "source": [
    "index_output=np.where((NDSetObjV[:,0]/NDSetObjV[:,1]<1.2)&(NDSetObjV[:,0]/NDSetObjV[:,1]>0.8))\n",
    "print('涡心为：   lon:',np.mean(NDSet[:,0]),\n",
    "                            'lat:',np.mean(NDSet[:,1]),\n",
    "                            '\\nC:',np.mean(NDSet[:,2]),\n",
    "                            '\\nR:',np.mean(NDSet[:,3]))\n",
    "print('涡心为：   lon:',np.mean(NDSet[index_output,0]),\n",
    "                            'lat:',np.mean(NDSet[index_output,1]),\n",
    "                            '\\nC:',np.mean(NDSet[index_output,2]),\n",
    "                            '\\nR:',np.mean(NDSet[index_output,3]))"
   ]
  },
  {
   "cell_type": "code",
   "execution_count": 37,
   "metadata": {},
   "outputs": [],
   "source": [
    "from pylab import *\n",
    "\"\"\"#完整参数\n",
    "ox = np.mean(NDSet[index_output,0])\n",
    "oy = np.mean(NDSet[index_output,1])\n",
    "R = np.mean(NDSet[index_output,2])\n",
    "alfa = np.mean(NDSet[index_output,3])\n",
    "beta = np.mean(NDSet[index_output,4])\n",
    "a = np.mean(NDSet[index_output,5])\n",
    "b = np.mean(NDSet[index_output,6])\n",
    "lamda = np.mean(NDSet[index_output,7])\n",
    "mu = np.mean(NDSet[index_output,8])\"\"\"\n",
    "#简化参数\n",
    "\n",
    "\"\"\"ox = np.mean(NDSet[index_output,0])\n",
    "oy = np.mean(NDSet[index_output,1])\n",
    "C = np.mean(NDSet[index_output,2])\n",
    "R = np.mean(NDSet[index_output,3])\"\"\"\n",
    "ox = 284.84\n",
    "oy = 31.78\n",
    "R = 0.23\n",
    "alfa = 0.2\n",
    "beta = 0.46\n",
    "a = 1.01\n",
    "b = 1\n",
    "lamda = 0.1\n",
    "mu = 0.1\n",
    "def dmove(Point,t):\n",
    "    \"\"\"\n",
    "    p：位置矢量\n",
    "    sets：其他参数\n",
    "    \"\"\"\n",
    "    x,y = Point\n",
    "    #完整参数\n",
    "    y1=(lamda*(y-oy)+alfa*(x-ox)*(a*(x-ox)**2+b*(y-oy)**2-R)**2)\n",
    "    y2=(-mu*(x-ox)+beta*(y-oy)*(a*(x-ox)**2+b*(y-oy)**2-R)**2)\n",
    "    \"\"\"#简化参数\n",
    "    y1=((y-oy)+(x-ox)*((x-ox)**2+(y-oy)**2-R)**2)/C\n",
    "    y2=(-(x-ox)+(y-oy)*((x-ox)**2+(y-oy)**2-R)**2)/C\"\"\"\n",
    "    return np.array([y1,y2])\n",
    "\n",
    "\n",
    "t = np.arange(0,2000,0.001)\n",
    "#调用odeint对dmove进行求解，用两个不同的初始值\n",
    "#P1 = odeint(dmove,(ox+R**0.5+0.1,oy),t)  #(0.,1.,0.)是point的初值\n",
    "P2 = odeint(dmove,(ox+R**0.5-0.001,oy),t)  #(0.,1.,0.)是point的初值"
   ]
  },
  {
   "cell_type": "code",
   "execution_count": 38,
   "metadata": {
    "scrolled": true
   },
   "outputs": [
    {
     "name": "stdout",
     "output_type": "stream",
     "text": [
      "\n",
      "————————网格生成成功，大小为： (9, 8) ————————\n",
      "\n",
      "————————绘图完毕————————\n",
      "绘制png\n",
      "绘制eps\n"
     ]
    },
    {
     "data": {
      "image/png": "[encoded data removed]",
      "text/plain": [
       "<matplotlib.figure.Figure at 0x25b07bb1f60>"
      ]
     },
     "metadata": {},
     "output_type": "display_data"
    }
   ],
   "source": [
    "\n",
    "X,Y=np.meshgrid(lon_f[loc_range[0]:loc_range[1]],lat_f[loc_range[2]:loc_range[3]])  #参见函数L_to_location\n",
    "    \n",
    "print('\\n————————网格生成成功，大小为：',X.shape,'————————')\n",
    "    \n",
    "fig, ax = plt.subplots()\n",
    "q = ax.quiver(X, Y, vx, vy)\n",
    "#ax.plot(P1[:,0],P1[:,1])\n",
    "ax.plot(P2[:,0],P2[:,1])\n",
    "print('\\n————————绘图完毕————————')\n",
    "foo_fig = plt.gcf() # 'get current figure'\n",
    "print(\"绘制png\")\n",
    "plt.savefig('result.png')#, format='png', dpi=1000)\n",
    "print(\"绘制eps\")\n",
    "foo_fig.savefig('result.eps', format='eps', dpi=1000)\n",
    "plt.show()"
   ]
  },
  {
   "cell_type": "code",
   "execution_count": null,
   "metadata": {},
   "outputs": [],
   "source": []
  }
 ],
 "metadata": {
  "kernelspec": {
   "display_name": "Python 3",
   "language": "python",
   "name": "python3"
  },
  "language_info": {
   "codemirror_mode": {
    "name": "ipython",
    "version": 3
   },
   "file_extension": ".py",
   "mimetype": "text/x-python",
   "name": "python",
   "nbconvert_exporter": "python",
   "pygments_lexer": "ipython3",
   "version": "3.6.4"
  }
 },
 "nbformat": 4,
 "nbformat_minor": 2
}
