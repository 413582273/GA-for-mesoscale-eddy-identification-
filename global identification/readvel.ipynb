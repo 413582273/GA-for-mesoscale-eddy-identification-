{
 "cells": [
  {
   "cell_type": "code",
   "execution_count": null,
   "metadata": {},
   "outputs": [],
   "source": [
    "import numpy\n",
    "import glovar as glo"
   ]
  },
  {
   "cell_type": "code",
   "execution_count": null,
   "metadata": {},
   "outputs": [],
   "source": [
    "def readvel(lon_start,lon_end,lat_start,lat_end):\n",
    "    #get the array index \n",
    "    index_lon_start=np.max(np.where(glo.global_lon<=lon_start))\n",
    "    index_lon_end=np.min(np.where(glo.global_lon>=lon_start))\n",
    "    index_lat_start=np.max(np.where(glo.global_lat<=lat_start))\n",
    "    index_lat_end=np.min(np.where(glo.global_lat>=lat_start))\n",
    "    #get the range of the index\n",
    "    range_lon=np.arange(index_lon_start,index_lon_end,1)\n",
    "    range_lat=np.arange(index_lat_start,index_lat_end,1)\n",
    "    #get the velocity data\n",
    "    U=glo.global_u[range_lat,range_lon]\n",
    "    V=glo.global_u[range_lat,range_lon]\n",
    "    return U,V"
   ]
  }
 ],
 "metadata": {
  "kernelspec": {
   "display_name": "Python 3",
   "language": "python",
   "name": "python3"
  },
  "language_info": {
   "codemirror_mode": {
    "name": "ipython",
    "version": 3
   },
   "file_extension": ".py",
   "mimetype": "text/x-python",
   "name": "python",
   "nbconvert_exporter": "python",
   "pygments_lexer": "ipython3",
   "version": "3.6.4"
  }
 },
 "nbformat": 4,
 "nbformat_minor": 2
}
