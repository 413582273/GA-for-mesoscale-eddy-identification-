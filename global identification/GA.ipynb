{
 "cells": [
  {
   "cell_type": "code",
   "execution_count": null,
   "metadata": {},
   "outputs": [],
   "source": [
    "import geatpy as ga\n",
    "import numpy as np\n",
    "import glovar as glo\n",
    "from moea_nsga2_templet1 import moea_nsga2_templet1"
   ]
  },
  {
   "cell_type": "code",
   "execution_count": null,
   "metadata": {},
   "outputs": [],
   "source": [
    "def GA(nind,maxgen,lon_start,lon_end,lat_start,lat_end):\n",
    "    # 获取函数接口地址\n",
    "    AIM_M = __import__('aimfuc')\n",
    "    PUN_M = __import__('punishing')\n",
    "    \"\"\"============================变量设置============================\"\"\"\n",
    "    ox = [lon_start,lon_end]  # 自变量1的范围  lon的范围\n",
    "    oy = [lat_start,lat_end]  # 自变量2的范围    lat的范围\n",
    "    R = [0.1,4 ]  # 自变量3的范围\n",
    "    alfa = [-3, 3]  # 自变量3的范围\n",
    "    beta = [-3, 3]  # 自变量3的范围\n",
    "    a = [0.1, 4]  # 自变量3的范围\n",
    "    b = [0.1, 4]  # 自变量3的范围\n",
    "    lamda = [0.1, 10]  # 自变量3的范围\n",
    "    mu = [0.1, 10]  # 自变量3的范围\n",
    "    b1 = [1, 1]  # 自变量1是否包含下界\n",
    "    b2 = [1, 1]  # 自变量2是否包含上界\n",
    "    b3 = [1, 1]  # 自变量3是否包含下界\n",
    "    b4 = [1, 1]  # 自变量4是否包含上界\n",
    "    b5 = [1, 1]  # 自变量4是否包含上界\n",
    "    b6 = [1, 1]  # 自变量4是否包含上界\n",
    "    b7 = [1, 1]  # 自变量4是否包含上界\n",
    "    b8 = [1, 1]  # 自变量4是否包含上界\n",
    "    b9 = [1, 1]  # 自变量4是否包含上界\n",
    "    precisions = [1, 1]  # 在二进制/格雷码编码中代表自变量的编码精度，当控制变量是二进制/格雷编码时，该参数可控制编码的精度\n",
    "    ranges = np.vstack([ox,oy,R,alfa,beta,a,b,lamda,mu]).T  # 生成自变量的范围矩阵\n",
    "    borders = np.vstack([b1,b2,b3,b4,b5,b6,b7,b8,b9]).T  # 生成自变量的边界矩阵\n",
    "    # 生成区域描述器\n",
    "    FieldD = ga.crtfld(ranges, borders, precisions)\n",
    "    \"\"\"========================遗传算法参数设置=========================\"\"\"\n",
    "    NIND = glo.nind  # 种群规模\n",
    "    MAXGEN = glo.maxgen  # 最大遗传代数\n",
    "    MAXSIZE = 200  # 最大帕累托前沿数\n",
    "    GGAP = 0.8  # 代沟：子代与父代的重复率为(1-GGAP)\n",
    "    selectStyle = 'rws'  # 遗传算法的选择方式设为\"rws\"——轮盘赌选择\n",
    "    recombinStyle = 'xovdp'  # 遗传算法的重组方式，设为两点交叉\n",
    "    recopt = 0.9  # 交叉概率\n",
    "    pm = 0.1  # 变异概率\n",
    "    SUBPOP = 1  # 设置种群数为1\n",
    "    maxormin = 1  # 设置标记表明这是最小化目标\n",
    "    \"\"\"=======================调用编程模板进行种群进化===================\"\"\"\n",
    "    # 调用编程模板进行种群进化，得到种群进化和变量的追踪器以及运行时间\n",
    "    [ObjV, NDSet, NDSetObjV, times] = moea_nsga2_templet1(AIM_M=AIM_M, AIM_F=\"aimfuc\", PUN_M=PUN_M, PUN_F=\"punishing\",\n",
    "                                                            FieldDR=FieldD, problem=\"R\", maxormin=1, MAXGEN=MAXGEN,\n",
    "                                                            MAXSIZE=MAXSIZE, NIND=NIND, SUBPOP=SUBPOP, GGAP=GGAP,\n",
    "                                                            selectStyle=selectStyle, recombinStyle=recombinStyle,\n",
    "                                                            recopt=recopt, pm=pm, distribute=True, drawing=0)\n",
    "    lon=np.mean(NDSet[:,0])\n",
    "    lat=np.mean(NDSet[:,1])\n",
    "    R1=np.mean(NDSet[:,2])\n",
    "    alfa=np.mean(NDSet[:,3])\n",
    "    beta=np.mean(NDSet[:,4])\n",
    "    a=np.mean(NDSet[:,5])\n",
    "    b=np.mean(NDSet[:,6])\n",
    "    lamda=np.mean(NDSet[:,7])\n",
    "    mu=np.mean(NDSet[:,8])\n",
    "    return lon,lat,R1**0.5,alfa,beta,a,b,lamda,mu,np.mean(np.abs(NDSetObjV[:,0])+np.abs(NDSetObjV[:,1])),lon_start,lon_end,lat_start,lat_end"
   ]
  }
 ],
 "metadata": {
  "kernelspec": {
   "display_name": "Python 3",
   "language": "python",
   "name": "python3"
  },
  "language_info": {
   "codemirror_mode": {
    "name": "ipython",
    "version": 3
   },
   "file_extension": ".py",
   "mimetype": "text/x-python",
   "name": "python",
   "nbconvert_exporter": "python",
   "pygments_lexer": "ipython3",
   "version": "3.6.4"
  }
 },
 "nbformat": 4,
 "nbformat_minor": 2
}
