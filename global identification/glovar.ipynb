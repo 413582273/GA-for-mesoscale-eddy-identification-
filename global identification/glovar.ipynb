{
 "cells": [
  {
   "cell_type": "code",
   "execution_count": null,
   "metadata": {},
   "outputs": [],
   "source": [
    "\"\"\"\n",
    "This module is designed for global variables, therefore every \n",
    "other .py files can get the basic configuration data such as \n",
    "search range, search accuracy, etc.\n",
    "\"\"\"\n",
    "import numpy"
   ]
  },
  {
   "cell_type": "code",
   "execution_count": null,
   "metadata": {},
   "outputs": [],
   "source": [
    "\"\"\"Global Constants\"\"\""
   ]
  },
  {
   "cell_type": "code",
   "execution_count": null,
   "metadata": {},
   "outputs": [],
   "source": [
    "#set search range, the unit is degree\n",
    "time=\"time\"\n",
    "lon_start=\"lon_start\"\n",
    "lon_end=\"lon_end\"\n",
    "lat_start=\"lat_start\"\n",
    "lat_end=\"lat_end\"\n",
    "#set search accuracy, the unit is degree\n",
    "acc=\"acc\"\n",
    "#identification tolerance\n",
    "iden_tol=\"inden_tol\"\n",
    "#clockwise=1 anti clockwise=-1\n",
    "clockwise=\"clockwise\"\n",
    "#tolerance level of the island\n",
    "island_tol=\"island_tol\"\n",
    "C_tol=\"C_tol\"\n",
    "\n",
    "#GA\n",
    "nind=\"nind\"\n",
    "maxgen=\"maxgen\""
   ]
  },
  {
   "cell_type": "code",
   "execution_count": null,
   "metadata": {},
   "outputs": [],
   "source": [
    "\"\"\"Global Variables\"\"\""
   ]
  },
  {
   "cell_type": "code",
   "execution_count": null,
   "metadata": {},
   "outputs": [],
   "source": [
    "#set local&global velocity variables\n",
    "#for convenience，u v should depend only on lon&lat，without time\n",
    "local_u=\"local_u\"\n",
    "local_v=\"local_v\"\n",
    "local_lon=\"local_lon\"\n",
    "local_lat=\"local_lat\"\n",
    "global_u=\"global_u\"\n",
    "global_v=\"global_v\"\n",
    "global_lon=\"global_lon\"\n",
    "global_lat=\"global_lat\"\n",
    "search_lon=\"search_lon\"\n",
    "search_lat=\"search_lat\""
   ]
  }
 ],
 "metadata": {
  "kernelspec": {
   "display_name": "Python 3",
   "language": "python",
   "name": "python3"
  },
  "language_info": {
   "codemirror_mode": {
    "name": "ipython",
    "version": 3
   },
   "file_extension": ".py",
   "mimetype": "text/x-python",
   "name": "python",
   "nbconvert_exporter": "python",
   "pygments_lexer": "ipython3",
   "version": "3.6.4"
  }
 },
 "nbformat": 4,
 "nbformat_minor": 2
}
