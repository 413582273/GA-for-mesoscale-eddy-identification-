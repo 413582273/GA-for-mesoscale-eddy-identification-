{
 "cells": [
  {
   "cell_type": "code",
   "execution_count": 1,
   "metadata": {},
   "outputs": [],
   "source": [
    "import cartopy.crs as ccrs\n",
    "import cartopy.feature as cfeature\n",
    "import csv\n",
    "from datetime import datetime\n",
    "import function as fuc\n",
    "import geatpy as ga\n",
    "import glovar as glo\n",
    "import matplotlib.pyplot as plt\n",
    "import matplotlib.gridspec as gridspec\n",
    "from mpl_toolkits.axes_grid1 import make_axes_locatable\n",
    "import math\n",
    "import matplotlib.pyplot as plt\n",
    "from mpi4py import MPI\n",
    "import numpy as np\n",
    "from netCDF4 import Dataset, date2index\n",
    "from netCDF4 import num2date\n",
    "from netCDF4 import date2num\n",
    "import os\n",
    "from pydap.client import open_url\n",
    "import seawater as sw\n",
    "import sys\n",
    "import time as tm"
   ]
  },
  {
   "cell_type": "code",
   "execution_count": 2,
   "metadata": {},
   "outputs": [],
   "source": [
    "\"\"\"Set global constants\"\"\"\n",
    "#set search range, the unit is degree\n",
    "glo.time=900\n",
    "glo.lon_start=100\n",
    "glo.lon_end=126\n",
    "glo.lat_start=2\n",
    "glo.lat_end=23\n",
    "#set search accuracy, the unit is degree\n",
    "glo.acc=1\n",
    "glo.iden_tol=5\n",
    "glo.island_tol=0.001\n",
    "glo.C_tol=6.0\n",
    "#set constants in GA\n",
    "glo.nind=100\n",
    "glo.maxgen=500"
   ]
  },
  {
   "cell_type": "code",
   "execution_count": 4,
   "metadata": {},
   "outputs": [],
   "source": [
    "\"\"\"Load the velocity field dataset \"\"\"\n",
    "#connect the data set\n",
    "dataset_uvel =Dataset('http://apdrc.soest.hawaii.edu:80/dods/public_data/ECCO/ECCO2/cube92/uvel')\n",
    "dataset_vvel =Dataset('http://apdrc.soest.hawaii.edu:80/dods/public_data/ECCO/ECCO2/cube92/vvel')    \n",
    "#get the data by use of the keys\n",
    "u=dataset_uvel.variables['uvel']\n",
    "v=dataset_vvel.variables['vvel']\n",
    "time=dataset_uvel.variables['time']\n",
    "#global variables assignment\n",
    "glo.global_lat=np.array(dataset_uvel.variables['lat'])\n",
    "glo.global_lon=np.array(dataset_uvel.variables['lon'])\n",
    "glo.global_u=u[glo.time,1,:,:]\n",
    "glo.global_v=v[glo.time,1,:,:]"
   ]
  },
  {
   "cell_type": "code",
   "execution_count": null,
   "metadata": {},
   "outputs": [],
   "source": [
    "#draw pic\n",
    "fuc.local_data_set(glo.lon_start,glo.lon_end,glo.lat_start,glo.lat_end)\n",
    "\n",
    "glo.search_lon=glo.local_lon\n",
    "glo.search_lat=glo.local_lat\n",
    "glo.search_u=glo.local_u\n",
    "glo.search_v=glo.local_v"
   ]
  },
  {
   "cell_type": "code",
   "execution_count": null,
   "metadata": {},
   "outputs": [],
   "source": [
    "#Check the search area\n",
    "X,Y = np.meshgrid(glo.local_lon[:],glo.local_lat[:])\n",
    "U=glo.search_u\n",
    "V=glo.search_v"
   ]
  },
  {
   "cell_type": "code",
   "execution_count": null,
   "metadata": {},
   "outputs": [],
   "source": [
    "#generlize the search step\n",
    "lon_step,lat_step,lon_half_step,lat_half_step=fuc.search_step()\n",
    "#initial eddy recording array\n",
    "eddy_record=np.array([0,0,0,0,0,0])"
   ]
  },
  {
   "cell_type": "code",
   "execution_count": null,
   "metadata": {},
   "outputs": [],
   "source": [
    "#search the eddy\n",
    "GA=__import__('GA')\n",
    "#entail step\n",
    "for i in range(lon_step.shape[0]-1):\n",
    "    for j in range(lat_step.shape[0]-1):\n",
    "        #set the local coordinates&velocity\n",
    "        print('计算经度：',lon_step[i],'-',lon_step[i+1],'纬度',lat_step[j],'-',lat_step[j+1])\n",
    "        fuc.local_data_set(lon_step[i],lon_step[i+1],lat_step[j],lat_step[j+1])\n",
    "        #Judge whether it is land or not\n",
    "        if ((np.max(abs(glo.local_u[:,:])<glo.island_tol)and(np.max(abs(glo.local_v[:,:])<glo.island_tol)))):\n",
    "            print('此区域为陆地')\n",
    "        else:\n",
    "            #search clockwise eddy\n",
    "            glo.clockwise=1.0   \n",
    "            eddy_lon,eddy_lat,eddy_C,eddy_R,ndset,eddyornot=GA.GA(glo.nind,glo.maxgen,lon_step[i],lon_step[i+1],lat_step[j],lat_step[j+1])\n",
    "            if((eddyornot==1)and(eddy_C<glo.C_tol)):\n",
    "                print(eddy_lon,eddy_lat,eddy_C,eddy_R)\n",
    "                #record the search result\n",
    "                eddy_record=np.append(eddy_record,[eddy_lon,eddy_lat,eddy_C,eddy_R,ndset,glo.clockwise])\n",
    "            else:\n",
    "                #search anti-clockwise eddy\n",
    "                glo.clockwise=-1.0 \n",
    "                eddy_lon,eddy_lat,eddy_C,eddy_R,ndset,eddyornot=GA.GA(glo.nind,glo.maxgen,lon_step[i],lon_step[i+1],lat_step[j],lat_step[j+1])\n",
    "                if((eddyornot==1)and(eddy_C<glo.C_tol)):\n",
    "                    print(eddy_lon,eddy_lat,eddy_C,eddy_R)\n",
    "                    #record the search result\n",
    "                    eddy_record=np.append(eddy_record,[eddy_lon,eddy_lat,eddy_C,eddy_R,ndset,glo.clockwise])"
   ]
  },
  {
   "cell_type": "markdown",
   "metadata": {},
   "source": [
    "#half_step\n",
    "for i in range(lon_half_step.shape[0]-1):\n",
    "    for j in range(lat_half_step.shape[0]-1):\n",
    "        #set the local coordinates&velocity\n",
    "        print('计算经度：',lon_half_step[i],'-',lon_half_step[i+1],'纬度',lat_half_step[j],'-',lat_half_step[j+1])\n",
    "        fuc.local_data_set(lon_half_step[i],lon_half_step[i+1],lat_half_step[j],lat_half_step[j+1])\n",
    "        #Judge whether it is land or not\n",
    "        if ((np.max(abs(glo.local_u[:,:])<glo.island_tol)and(np.max(abs(glo.local_v[:,:])<glo.island_tol)))):\n",
    "            print('此区域为陆地')\n",
    "        else:\n",
    "            eddy_lon,eddy_lat,eddy_C,eddy_R,eddyornot=GA.GA(nind,maxgen,lon_half_step[i],lon_half_step[i+1],lat_half_step[j],lat_half_step[j+1])\n",
    "            if(eddyornot==1):\n",
    "                print(eddy_lon,eddy_lat,eddy_C,eddy_R)\n",
    "                eddy_record=np.append(eddy_record,[eddy_lon,eddy_lat,eddy_C,eddy_R,glo.clockwise])"
   ]
  },
  {
   "cell_type": "markdown",
   "metadata": {},
   "source": [
    "#search the clockwise eddy\n",
    "glo.clockwise=-1.0   \n",
    "GA=__import__('GA')\n",
    "#entail step\n",
    "for i in range(lon_step.shape[0]-1):\n",
    "    for j in range(lat_step.shape[0]-1):\n",
    "        #set the local coordinates&velocity\n",
    "        print('计算经度：',lon_step[i],'-',lon_step[i+1],'纬度',lat_step[j],'-',lat_step[j+1])\n",
    "        fuc.local_data_set(lon_step[i],lon_step[i+1],lat_step[j],lat_step[j+1])\n",
    "        #Judge whether it is land or not\n",
    "        if ((np.max(abs(glo.local_u[:,:])<glo.island_tol)and(np.max(abs(glo.local_v[:,:])<glo.island_tol)))):\n",
    "            print('此区域为陆地')\n",
    "        else:\n",
    "            eddy_lon,eddy_lat,eddy_C,eddy_R,eddyornot=GA.GA(nind,maxgen,lon_step[i],lon_step[i+1],lat_step[j],lat_step[j+1])\n",
    "            if((eddyornot==1)and(eddy_C<C_tol)):\n",
    "                print(eddy_lon,eddy_lat,eddy_C,eddy_R)\n",
    "                eddy_record=np.append(eddy_record,[eddy_lon,eddy_lat,eddy_C,eddy_R,glo.clockwise])"
   ]
  },
  {
   "cell_type": "markdown",
   "metadata": {},
   "source": [
    "#half_step\n",
    "for i in range(lon_half_step.shape[0]-1):\n",
    "    for j in range(lat_half_step.shape[0]-1):\n",
    "        #set the local coordinates&velocity\n",
    "        print('计算经度：',lon_half_step[i],'-',lon_half_step[i+1],'纬度',lat_half_step[j],'-',lat_half_step[j+1])\n",
    "        fuc.local_data_set(lon_half_step[i],lon_half_step[i+1],lat_half_step[j],lat_half_step[j+1])\n",
    "        #Judge whether it is land or not\n",
    "        if ((np.max(abs(glo.local_u[:,:])<0.0001)and(np.max(abs(glo.local_v[:,:])<0.0001)))):\n",
    "            print('此区域为陆地')\n",
    "        else:\n",
    "            eddy_lon,eddy_lat,eddy_C,eddy_R,eddyornot=GA.GA(nind,maxgen,lon_half_step[i],lon_half_step[i+1],lat_half_step[j],lat_half_step[j+1])\n",
    "            if(eddyornot==1):\n",
    "                print(eddy_lon,eddy_lat,eddy_C,eddy_R)\n",
    "                eddy_record=np.append(eddy_record,[eddy_lon,eddy_lat,eddy_C,eddy_R,glo.clockwise])"
   ]
  },
  {
   "cell_type": "code",
   "execution_count": null,
   "metadata": {},
   "outputs": [],
   "source": [
    "#write the identification result into a csv file named data\n",
    "eddy=eddy_record\n",
    "k=eddy.shape[0]/6\n",
    "eddy=eddy.reshape((int(k),6))\n",
    "out = open('data.csv','a', newline='')\n",
    "#设定写入模式\n",
    "csv_write = csv.writer(out,dialect='excel')\n",
    "#写入具体内容\n",
    "csv_write.writerows(eddy)\n",
    "out.close()"
   ]
  },
  {
   "cell_type": "code",
   "execution_count": null,
   "metadata": {},
   "outputs": [],
   "source": [
    "fig=plt.figure(figsize=(50,50))\n",
    "ax=plt.subplot(projection=ccrs.PlateCarree())\n",
    "ax.coastlines('50m',linewidth=20)\n",
    "ax.add_feature(cfeature.LAND,alpha=1, color='')\n",
    "ax.set_extent([glo.search_lon[0], glo.search_lon[glo.search_lon.shape[0]-1]\n",
    "                , glo.search_lat[0], glo.search_lat[glo.search_lat.shape[0]-1]]\n",
    "               , ccrs.PlateCarree())\n",
    "ax.grid(True, linestyle='-.')\n",
    "#ax0.streamplot(X, Y, U, V, density=5, color='k', linewidth=1)\n",
    "\n",
    "for i in range(eddy[1:,0].shape[0]):\n",
    "    if(eddy[1+i,5]==1):\n",
    "        cir1 = plt.Circle(xy = (eddy[1+i,0], eddy[1+i,1]), radius=eddy[1+i,3]**0.5, alpha=0.7,color='g')\n",
    "        ax.add_patch(cir1)\n",
    "    else:\n",
    "        cir1 = plt.Circle(xy = (eddy[1+i,0], eddy[1+i,1]), radius=eddy[1+i,3]**0.5, alpha=0.7,color='y')\n",
    "        ax.add_patch(cir1)\n",
    "        \n",
    "ax.quiver(X, Y, U, V)#,width=0.0005)\n",
    "foo_fig = plt.gcf() # 'get current figure'\n",
    "foo_fig.savefig('result.eps', format='eps', dpi=1000)\n",
    "plt.show()"
   ]
  },
  {
   "cell_type": "code",
   "execution_count": null,
   "metadata": {},
   "outputs": [],
   "source": []
  },
  {
   "cell_type": "code",
   "execution_count": null,
   "metadata": {},
   "outputs": [],
   "source": []
  }
 ],
 "metadata": {
  "kernelspec": {
   "display_name": "Python 3",
   "language": "python",
   "name": "python3"
  },
  "language_info": {
   "codemirror_mode": {
    "name": "ipython",
    "version": 3
   },
   "file_extension": ".py",
   "mimetype": "text/x-python",
   "name": "python",
   "nbconvert_exporter": "python",
   "pygments_lexer": "ipython3",
   "version": "3.6.13"
  }
 },
 "nbformat": 4,
 "nbformat_minor": 2
}
