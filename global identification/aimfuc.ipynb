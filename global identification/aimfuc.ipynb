{
 "cells": [
  {
   "cell_type": "code",
   "execution_count": null,
   "metadata": {},
   "outputs": [],
   "source": [
    "\"\"\"\n",
    "This program is designed for parameter estimation of dynamic system ,\n",
    "using the Geatpy to accomplish the GA algorithm.\n",
    "\n",
    "The module describes the aim function of the parameter estimation problem.\n",
    "\n",
    "Algorithm's details see also \n",
    "https://github.com/geatpy-dev/geatpy/blob/master/geatpy/doc/Geatpy-tutorials/2.quickstart.pdf\n",
    "\n",
    "\"\"\""
   ]
  },
  {
   "cell_type": "code",
   "execution_count": null,
   "metadata": {},
   "outputs": [],
   "source": [
    "import numpy as np\n",
    "import geatpy as ga #Import GA algorithm\n",
    "import glovar as glo #Import global variables"
   ]
  },
  {
   "cell_type": "code",
   "execution_count": null,
   "metadata": {},
   "outputs": [],
   "source": [
    "#新模型Defination of the aim function\n",
    "def aimfuc(Phen,LegV):\n",
    "    #Get the values of global variables\n",
    "    U=glo.local_u\n",
    "    V=glo.local_v\n",
    "    X=glo.local_lon\n",
    "    Y=glo.local_lat\n",
    "    ox=Phen[:,0]\n",
    "    oy=Phen[:,1]\n",
    "    R=Phen[:,2]\n",
    "    lamda=Phen[:,3]\n",
    "    mu=Phen[:,4]\n",
    "    alfa=Phen[:,5]\n",
    "    beta=Phen[:,6]\n",
    "    a=Phen[:,7]\n",
    "    b=Phen[:,8]\n",
    "    fucx=0\n",
    "    fucy=0\n",
    "    for i in range(X.shape[0]):\n",
    "        for j in range(Y.shape[0]):\n",
    "            fx=U[j][i]-(lamda*(Y[j]-oy)+alfa*(X[i]-ox)*(a*(X[i]-ox)**2+b*(Y[j]-oy)**2-R)**2)\n",
    "            fy=V[j][i]-(-mu*(X[i]-ox)+beta*(Y[j]-oy)*(a*(X[i]-ox)**2+b*(Y[j]-oy)**2-R)**2)\n",
    "            fucx=fx**2+fucx\n",
    "            fucy=fy**2+fucy\n",
    "    return[np.vstack([fucx, fucy]).T,LegV]"
   ]
  },
  {
   "cell_type": "markdown",
   "metadata": {},
   "source": [
    "#老模型Defination of the aim function\n",
    "def aimfuc(Phen,LegV):\n",
    "    #Get the values of global variables\n",
    "    U=glo.local_u\n",
    "    V=glo.local_v\n",
    "    X=glo.local_lon\n",
    "    Y=glo.local_lat\n",
    "    ox=Phen[:,0]\n",
    "    oy=Phen[:,1]\n",
    "    C=Phen[:,2]\n",
    "    R=Phen[:,3]\n",
    "    fucx=0\n",
    "    fucy=0\n",
    "    for i in range(X.shape[0]):\n",
    "        for j in range(Y.shape[0]):\n",
    "            fx=U[j][i]-glo.clockwise*((Y[j]-oy)-(X[i]-ox)*((X[i]-ox)**2+(Y[j]-oy)**2-R))/C\n",
    "            fy=V[j][i]-glo.clockwise*(-(X[i]-ox)-(Y[j]-oy)*((X[i]-ox)**2+(Y[j]-oy)**2-R))/C\n",
    "            fucx=fx**2+fucx\n",
    "            fucy=fy**2+fucy\n",
    "    return[np.vstack([fucx, fucy]).T,LegV]"
   ]
  }
 ],
 "metadata": {
  "kernelspec": {
   "display_name": "Python 3",
   "language": "python",
   "name": "python3"
  },
  "language_info": {
   "codemirror_mode": {
    "name": "ipython",
    "version": 3
   },
   "file_extension": ".py",
   "mimetype": "text/x-python",
   "name": "python",
   "nbconvert_exporter": "python",
   "pygments_lexer": "ipython3",
   "version": "3.6.4"
  }
 },
 "nbformat": 4,
 "nbformat_minor": 2
}
