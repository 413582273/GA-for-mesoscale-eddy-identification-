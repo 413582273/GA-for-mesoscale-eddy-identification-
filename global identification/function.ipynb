{
 "cells": [
  {
   "cell_type": "code",
   "execution_count": null,
   "metadata": {},
   "outputs": [],
   "source": [
    "import glovar as glo\n",
    "import numpy as np"
   ]
  },
  {
   "cell_type": "code",
   "execution_count": null,
   "metadata": {},
   "outputs": [],
   "source": [
    "#Modify the search area\n",
    "#input the eddy parameter, output regional coordinates\n",
    "def locmod(R,lon,lat):\n",
    "    lon_start=lon-R\n",
    "    lon_end=lon+R\n",
    "    lat_start=lat-R\n",
    "    lat_end=lat+R\n",
    "    return lon_start,lon_end,lat_start,lat_end"
   ]
  },
  {
   "cell_type": "code",
   "execution_count": null,
   "metadata": {},
   "outputs": [],
   "source": [
    "#Generlize search step\n",
    "#input search accuracy(global var),search area ,output search grid data\n",
    "def search_step():\n",
    "    lon_mod=(glo.lon_end-glo.lon_start)%glo.acc #取模\n",
    "    lat_mod=(glo.lat_end-glo.lat_start)%glo.acc\n",
    "    lon_step=np.arange(glo.lon_start,glo.lon_end-lon_mod+glo.acc,glo.acc)\n",
    "    lat_step=np.arange(glo.lat_start,glo.lat_end-lat_mod+glo.acc,glo.acc)\n",
    "    #in order to ensure a detailed search result ，we use cross Staggered grid method\n",
    "    lon_half_step=np.arange(glo.lon_start+glo.acc/2,glo.lon_end-lon_mod-glo.acc/2,glo.acc)\n",
    "    lat_half_step=np.arange(glo.lat_start+glo.acc/2,glo.lat_end-lat_mod-glo.acc/2,glo.acc)\n",
    "    return lon_step,lat_step,lon_half_step,lat_half_step"
   ]
  },
  {
   "cell_type": "code",
   "execution_count": null,
   "metadata": {},
   "outputs": [],
   "source": [
    "#set the local coordinates&velocity\n",
    "#input original single calculating grid range,output the local calculating grid\n",
    "def local_data_set(orilon_start,orilon_end,orilat_start,orilat_end):\n",
    "    #get the index\n",
    "    index_lon_start=np.max(np.where(glo.global_lon<=orilon_start))\n",
    "    index_lon_end=np.min(np.where(glo.global_lon>=orilon_end))\n",
    "    \n",
    "    index_lat_start=np.max(np.where(glo.global_lat<=orilat_start))\n",
    "    index_lat_end=np.min(np.where(glo.global_lat>=orilat_end))\n",
    "    \n",
    "    glo.local_lon=glo.global_lon[index_lon_start:index_lon_end+1]\n",
    "    glo.local_lat=glo.global_lat[index_lat_start:index_lat_end+1]\n",
    "    \n",
    "    glo.local_u=glo.global_u[index_lat_start:index_lat_end+1,index_lon_start:index_lon_end+1]\n",
    "    glo.local_v=glo.global_v[index_lat_start:index_lat_end+1,index_lon_start:index_lon_end+1]\n",
    "    \n",
    "    \n",
    "    #print('实际计算经度：',glo.global_lon[index_lon_start],'-',glo.global_lon[index_lon_end],\n",
    "     #     '纬度',glo.global_lat[index_lat_start],'-',glo.global_lat[index_lat_end])\n",
    "    return "
   ]
  }
 ],
 "metadata": {
  "kernelspec": {
   "display_name": "Python 3",
   "language": "python",
   "name": "python3"
  },
  "language_info": {
   "codemirror_mode": {
    "name": "ipython",
    "version": 3
   },
   "file_extension": ".py",
   "mimetype": "text/x-python",
   "name": "python",
   "nbconvert_exporter": "python",
   "pygments_lexer": "ipython3",
   "version": "3.6.4"
  }
 },
 "nbformat": 4,
 "nbformat_minor": 2
}
